{
 "cells": [
  {
   "cell_type": "code",
   "execution_count": 1,
   "id": "f12cd81b",
   "metadata": {},
   "outputs": [],
   "source": [
    "import pandas as pd"
   ]
  },
  {
   "cell_type": "code",
   "execution_count": 2,
   "id": "22dfd4b2",
   "metadata": {},
   "outputs": [],
   "source": [
    "phc = pd.read_csv('main_phc_2023.csv')"
   ]
  },
  {
   "cell_type": "code",
   "execution_count": 3,
   "id": "17db3807",
   "metadata": {},
   "outputs": [
    {
     "data": {
      "text/plain": [
       "4287006"
      ]
     },
     "execution_count": 3,
     "metadata": {},
     "output_type": "execute_result"
    }
   ],
   "source": [
    "phc.count_patients.sum()"
   ]
  },
  {
   "cell_type": "code",
   "execution_count": null,
   "id": "2af601be",
   "metadata": {},
   "outputs": [],
   "source": []
  }
 ],
 "metadata": {
  "kernelspec": {
   "display_name": "Python 3 (ipykernel)",
   "language": "python",
   "name": "python3"
  },
  "language_info": {
   "codemirror_mode": {
    "name": "ipython",
    "version": 3
   },
   "file_extension": ".py",
   "mimetype": "text/x-python",
   "name": "python",
   "nbconvert_exporter": "python",
   "pygments_lexer": "ipython3",
   "version": "3.9.13"
  }
 },
 "nbformat": 4,
 "nbformat_minor": 5
}
